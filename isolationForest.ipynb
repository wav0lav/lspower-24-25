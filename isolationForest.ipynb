{
 "cells": [
  {
   "cell_type": "code",
   "execution_count": null,
   "metadata": {
    "vscode": {
     "languageId": "plaintext"
    }
   },
   "outputs": [],
   "source": [
    "import pandas as pd\n",
    "import numpy as np\n",
    "import os\n",
    "import random\n",
    "from scipy import stats\n",
    "import matplotlib.pyplot as plt\n",
    "from matplotlib import dates as d\n",
    "import datetime\n",
    "from datetime import date, timedelta\n",
    "from sklearn.ensemble import IsolationForest\n",
    "from sklearn.neighbors import LocalOutlierFactor\n",
    "import matplotlib.lines as mlines\n",
    "import re\n",
    "import seaborn as sns\n",
    "from sklearn.cluster import KMeans\n",
    "#$pip install kneed\n",
    "from kneed import KneeLocator\n",
    "from sklearn.preprocessing import StandardScaler\n",
    "from sklearn.model_selection import train_test_split\n",
    "from sklearn.svm import SVC\n",
    "from sklearn.metrics import accuracy_score\n",
    "from sklearn.metrics import matthews_corrcoef\n",
    "from sklearn.metrics import recall_score"
   ]
  },
  {
   "cell_type": "code",
   "execution_count": null,
   "metadata": {
    "vscode": {
     "languageId": "plaintext"
    }
   },
   "outputs": [],
   "source": [
    "def isolation_forest_df(df, selected_features):\n",
    "\n",
    "  df_yellow = df[df[\"Follow Up Priority\"] == \"Yellow\"]\n",
    "  df_green = df[df[\"Follow Up Priority\"] == \"Green\"]\n",
    "\n",
    "  isolation_test_df = pd.DataFrame(columns=['estimator', 'contamination', 'recall', 'matthews'])\n",
    "  data = df.copy()[selected_features]\n",
    "\n",
    "  estimators = np.linspace(100, 300, 5)\n",
    "  contamination = np.linspace(.07, .09, 5)\n",
    "\n",
    "  for e in (estimators):\n",
    "    for c in (contamination):\n",
    "\n",
    "        # Create and fit the model\n",
    "        # estimators are the number of small decision trees\n",
    "        # contatmination is proportion of outliers\n",
    "      clf = IsolationForest(n_estimators= int(e), contamination=round(c, 3), random_state=random_state_val)\n",
    "      clf.fit(data)\n",
    "\n",
    "      # Predict outliers\n",
    "      predictions = clf.predict(data)\n",
    "      data['prediction'] = predictions\n",
    "\n",
    "        # Examine the outliers\n",
    "      outliers = data[data['prediction'] == -1]\n",
    "      non_outliers = data[data['prediction'] == 1]\n",
    "\n",
    "      anomalies = df.loc[outliers.index, ['Timestamp (US/Eastern)', 'Well']] # yellow prediction\n",
    "      not_anomalies = df.loc[non_outliers.index, ['Timestamp (US/Eastern)', 'Well']] # green prediction\n",
    "\n",
    "      true_positive = len(pd.merge(anomalies, df_yellow, on=['Timestamp (US/Eastern)', 'Well'], how='inner')) # model predicted yellow + was yellow\n",
    "      true_negative = len(pd.merge(not_anomalies, df_green, on=['Timestamp (US/Eastern)', 'Well'], how='inner')) # model predicted green and it actually was green\n",
    "      false_negative = len(pd.merge(not_anomalies, df_yellow, on=['Timestamp (US/Eastern)', 'Well'], how='inner')) # model predicted green but was actually yellow\n",
    "      false_positive = len(pd.merge(anomalies, df_green, on=['Timestamp (US/Eastern)', 'Well'], how='inner')) # model predicted yellow, but was actually green\n",
    "\n",
    "      recall = true_positive / (true_positive + false_negative)\n",
    "      matthews_corrcoef = matthews_correlation(true_positive, true_negative, false_negative, false_positive)\n",
    "      isolation_test_df.loc[len(isolation_test_df)] = {'estimator': int(e), 'contamination': round(c, 3), 'recall': recall, 'matthews': matthews_corrcoef}\n",
    "\n",
    "  return isolation_test_df"
   ]
  }
 ],
 "metadata": {
  "language_info": {
   "name": "python"
  }
 },
 "nbformat": 4,
 "nbformat_minor": 2
}
